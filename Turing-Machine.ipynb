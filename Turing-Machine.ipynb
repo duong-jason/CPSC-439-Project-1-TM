{
 "cells": [
  {
   "cell_type": "markdown",
   "id": "49275936",
   "metadata": {},
   "source": [
    "## CPSC 439 (Spring 2022) Project 1: Turing Machines\n",
    "\n",
    "###  Group Members\n",
    "* Bradley Diep\n",
    "* John Dinh\n",
    "* Jason Duong\n",
    "* Omid Nikjoo\n",
    "\n",
    "### Documentation\n",
    "   * Each transition is represented as a tuple $(a, b, c)$ encoded as $1^a01^b01^c0$ for $a, b, c \\in N$\n",
    "   * Each final state, $d$, is represented as $1^d0$ for $d\\in N$\n",
    "   * The $00$ token string deliminates objects T and S\n",
    "\n",
    "### Example\n",
    "``10110111001101 = T: (1, 11, 111), S: (11, 1) = T: (q0, q1, q2), S: (q1, q0)``"
   ]
  },
  {
   "cell_type": "code",
   "execution_count": 1,
   "id": "702992b7",
   "metadata": {},
   "outputs": [],
   "source": [
    "from collections import namedtuple\n",
    "\n",
    "# Computational Model: DFA\n",
    "DFA = namedtuple('DFA', ['T', 'S'])\n",
    "BLANK, ZERO, ONE = ['.', '0', '1']\n",
    "\n",
    "def encode(M):\n",
    "    '''converts DFA model to binary representation'''\n",
    "    code = ''\n",
    "    for (current, symbol), successor in M.T.items():\n",
    "        code += ''.join(list(map(lambda offset: ONE * (offset + 1) + ZERO,\n",
    "                                 [current, symbol, successor])))\n",
    "    \n",
    "    code += ZERO + ''.join(list(map(lambda offset: ONE * (offset + 1), M.S)))\n",
    "    return code\n",
    "\n",
    "# DFA Representation\n",
    "DFA.__repr__ = encode"
   ]
  },
  {
   "cell_type": "code",
   "execution_count": 2,
   "id": "c5df5338",
   "metadata": {},
   "outputs": [
    {
     "name": "stdout",
     "output_type": "stream",
     "text": [
      "XOR-DFA: 101010101101101101011011011010011\n"
     ]
    }
   ],
   "source": [
    "'''Figure 6.3'''\n",
    "\n",
    "# States\n",
    "q0, q1, q2, q3 = list(range(4))\n",
    "\n",
    "# Transition Function\n",
    "δ = dict([ \n",
    "    ((q0, 0), q0), ((q0, 1), q1),\n",
    "    ((q1, 0), q1), ((q1, 1), q0),\n",
    "])\n",
    "\n",
    "XOR_DFA = DFA(δ, [q1])\n",
    "print(f'XOR-DFA: {XOR_DFA!r}')"
   ]
  },
  {
   "cell_type": "code",
   "execution_count": 3,
   "id": "f8e56b48",
   "metadata": {},
   "outputs": [
    {
     "name": "stdout",
     "output_type": "stream",
     "text": [
      "F-DFA: 101011101011011110110101011011011110111010111101110110110111101011110111101101111001\n"
     ]
    }
   ],
   "source": [
    "'''Figure 6.4'''\n",
    "\n",
    "# Transition Function\n",
    "δ = dict([\n",
    "    ((q0, 0), q2), ((q0, 1), q3),\n",
    "    ((q1, 0), q0), ((q1, 1), q3),\n",
    "    ((q2, 0), q3), ((q2, 1), q1),\n",
    "    ((q3, 0), q3), ((q3, 1), q3),\n",
    "])\n",
    "\n",
    "F_DFA = DFA(δ, [q0])\n",
    "print(f'F-DFA: {F_DFA!r}')"
   ]
  },
  {
   "cell_type": "markdown",
   "id": "aed963c4",
   "metadata": {},
   "source": [
    "### Turing Machine\n",
    "* Run in https://turingmachinesimulator.com/ for it to work \n",
    "* Or click https://turingmachinesimulator.com/shared/nzyytbrnor to go directly there\n",
    "\n",
    "name: Project 1 TM <br>\n",
    "init: q0 <br>\n",
    "accept: q0, q6 <br>\n",
    "\n",
    "// initial state, separates depending on input\n",
    "\n",
    "q0,0 <br>\n",
    "q1,0,> <br>\n",
    "\n",
    "q0,1 <br>\n",
    "q5,1,> <br>\n",
    "\n",
    "// satisfies Figure 6.4\n",
    "\n",
    "q1,0 <br>\n",
    "q3,0,> <br>\n",
    "\n",
    "q1,1 <br>\n",
    "q4,1,> <br>\n",
    "\n",
    "q2,0 <br>\n",
    "q1,0,> <br>\n",
    "\n",
    "q2,1 <br>\n",
    "q4,1,> <br>\n",
    "\n",
    "q3,0 <br>\n",
    "q4,0,> <br>\n",
    "\n",
    "q3,1 <br>\n",
    "q2,1,> <br>\n",
    "\n",
    "q4,0 <br>\n",
    "q4,0,> <br>\n",
    "\n",
    "q4,1 <br>\n",
    "q4,1,> <br>\n",
    "\n",
    "q1,_ <br>\n",
    "q1,_,- <br>\n",
    "\n",
    "// satisfies Figure 6.3\n",
    "\n",
    "q5,0 <br>\n",
    "q5,0,> <br>\n",
    "\n",
    "q5,1 <br>\n",
    "q6,1,> <br>\n",
    "\n",
    "q6,0 <br>\n",
    "q6,0,> <br>\n",
    "\n",
    "q6,1 <br>\n",
    "q5,1,> <br>\n",
    "\n",
    "q6,_ <br>\n",
    "q6,_,- <br>"
   ]
  },
  {
   "cell_type": "code",
   "execution_count": null,
   "id": "445ece9c",
   "metadata": {},
   "outputs": [],
   "source": []
  }
 ],
 "metadata": {
  "kernelspec": {
   "display_name": "Python 3 (ipykernel)",
   "language": "python",
   "name": "python3"
  },
  "language_info": {
   "codemirror_mode": {
    "name": "ipython",
    "version": 3
   },
   "file_extension": ".py",
   "mimetype": "text/x-python",
   "name": "python",
   "nbconvert_exporter": "python",
   "pygments_lexer": "ipython3",
   "version": "3.9.12"
  }
 },
 "nbformat": 4,
 "nbformat_minor": 5
}
