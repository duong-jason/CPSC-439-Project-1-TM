{
 "cells": [
  {
   "cell_type": "code",
   "execution_count": 50,
   "id": "702992b7",
   "metadata": {},
   "outputs": [],
   "source": [
    "from collections import namedtuple\n",
    "\n",
    "# Computational Model: DFA\n",
    "DFA = namedtuple('DFA', ['T', 'S'])\n",
    "BLANK, ZERO, ONE = ['.', '0', '1']\n",
    "\n",
    "def encode(M):\n",
    "    '''converts DFA model to binary representation'''\n",
    "    code = ''\n",
    "\n",
    "    for (current, symbol), successor in M.T.items():\n",
    "        code += ''.join(list(map(lambda offset: ONE * (offset + 1) + ZERO,\n",
    "                                [current, symbol, successor])))\n",
    "    \n",
    "    for final in M.S:\n",
    "        code += ZERO\n",
    "        code += ''.join(list(map(lambda offset: ONE * (offset + 1), [final])))\n",
    "\n",
    "    return code\n",
    "\n",
    "# DFA Representation\n",
    "DFA.__repr__ = encode"
   ]
  },
  {
   "cell_type": "code",
   "execution_count": 51,
   "id": "c5df5338",
   "metadata": {},
   "outputs": [
    {
     "name": "stdout",
     "output_type": "stream",
     "text": [
      "XOR-DFA: 101010101101101101011011011010011\n"
     ]
    }
   ],
   "source": [
    "'''Figure 6.3'''\n",
    "\n",
    "# States\n",
    "q0, q1, q2, q3 = 0, 1, 2, 3\n",
    "\n",
    "# Transition Function\n",
    "δ = dict([ \n",
    "    ((q0, 0), q0), ((q0, 1), q1),\n",
    "    ((q1, 0), q1), ((q1, 1), q0),\n",
    "])\n",
    "\n",
    "XOR = DFA(δ, {q1})\n",
    "print('XOR-DFA:', XOR)"
   ]
  },
  {
   "cell_type": "code",
   "execution_count": 52,
   "id": "f8e56b48",
   "metadata": {},
   "outputs": [
    {
     "name": "stdout",
     "output_type": "stream",
     "text": [
      "F-DFA: 101011101011011110110101011011011110111010111101110110110111101011110111101101111001\n"
     ]
    }
   ],
   "source": [
    "'''Figure 6.4'''\n",
    "\n",
    "# Transition Function\n",
    "δ = dict([\n",
    "    ((q0, 0), q2), ((q0, 1), q3),\n",
    "    ((q1, 0), q0), ((q1, 1), q3),\n",
    "    ((q2, 0), q3), ((q2, 1), q1),\n",
    "    ((q3, 0), q3), ((q3, 1), q3),\n",
    "])\n",
    "\n",
    "F = DFA(δ, {q0})\n",
    "print('F-DFA:', F)"
   ]
  },
  {
   "cell_type": "code",
   "execution_count": 53,
   "id": "6fa07240",
   "metadata": {},
   "outputs": [
    {
     "name": "stdout",
     "output_type": "stream",
     "text": [
      "[0, 1], {0, 1}, 0, {1}\n"
     ]
    }
   ],
   "source": [
    "M = XOR\n",
    "\n",
    "alphabet = {0, 1}\n",
    "state = sorted(list(set(([x[0] for x in M.T.keys()]))))\n",
    "current = state[0]\n",
    "final = M.S\n",
    "\n",
    "print(state, alphabet, current, final, sep=', ')"
   ]
  },
  {
   "cell_type": "code",
   "execution_count": 54,
   "id": "e07b04f5",
   "metadata": {},
   "outputs": [
    {
     "name": "stdout",
     "output_type": "stream",
     "text": [
      "q1 -> q1 -> q0 -> q1 -> q1 -> q0 -> reject\n"
     ]
    }
   ],
   "source": [
    "_input = r'101101'\n",
    "\n",
    "def compute(code):\n",
    "    global current\n",
    "    current = state[0]\n",
    "\n",
    "    X = [int(c) for c in code]\n",
    "\n",
    "    for symbol in X:\n",
    "        current = M.T[(current, symbol)]\n",
    "        print('q' + str(current), '-> ', end='')\n",
    "\n",
    "    return 'accept' if current in final else 'reject'\n",
    "\n",
    "\n",
    "print(compute(_input))"
   ]
  },
  {
   "cell_type": "code",
   "execution_count": null,
   "id": "d0212920",
   "metadata": {},
   "outputs": [],
   "source": []
  }
 ],
 "metadata": {
  "kernelspec": {
   "display_name": "Python 3 (ipykernel)",
   "language": "python",
   "name": "python3"
  },
  "language_info": {
   "codemirror_mode": {
    "name": "ipython",
    "version": 3
   },
   "file_extension": ".py",
   "mimetype": "text/x-python",
   "name": "python",
   "nbconvert_exporter": "python",
   "pygments_lexer": "ipython3",
   "version": "3.8.10"
  }
 },
 "nbformat": 4,
 "nbformat_minor": 5
}
