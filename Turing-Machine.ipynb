{
 "cells": [
  {
   "cell_type": "markdown",
   "id": "49275936",
   "metadata": {},
   "source": [
    "## CPSC 439 (Spring 2022) Project 1: Turing Machines\n",
    "\n",
    "###  Group Members\n",
    "* Bradley Diep\n",
    "* John Dinh\n",
    "* Jason Duong\n",
    "* Omid Nikjoo\n",
    "\n",
    "### Documentation\n",
    "   * Each transition is represented as a tuple $(a, b, c)$ encoded as $1^a01^b01^c$ for $a, b, c \\in N$\n",
    "   * Each final state, $d$, is represented as $1^d0$ for $d\\in N$\n",
    "   * The $00$ token string deliminates objects T and S\n",
    "\n",
    "### Example\n",
    "``10110111001101 = T: (1, 11, 111), S: {11, 1} = T: (q0, q1, q2), S: {q1, q0}``"
   ]
  },
  {
   "cell_type": "markdown",
   "id": "b42b29de",
   "metadata": {},
   "source": [
    "# Hints\n",
    "* can use any data structure, but still need {0, 1}*\n",
    "* treat multiple tape heads as separate variables (more than one working variable)"
   ]
  },
  {
   "cell_type": "code",
   "execution_count": 92,
   "id": "702992b7",
   "metadata": {},
   "outputs": [],
   "source": [
    "from collections import namedtuple\n",
    "\n",
    "# Computational Model: DFA\n",
    "DFA = namedtuple('DFA', ['T', 'S'])\n",
    "BLANK, ZERO, ONE = ['.', '0', '1']\n",
    "\n",
    "def encode(M):\n",
    "    '''converts DFA model to binary representation'''\n",
    "    code = ''\n",
    "    for (current, symbol), successor in M.T.items():\n",
    "        code += ''.join(list(map(lambda offset: ONE * (offset + 1) + ZERO,\n",
    "                                 [current, symbol, successor])))\n",
    "    \n",
    "    code += ZERO + ''.join(list(map(lambda offset: ONE * (offset + 1), M.S)))\n",
    "    return code\n",
    "\n",
    "# DFA Representation\n",
    "DFA.__repr__ = encode"
   ]
  },
  {
   "cell_type": "code",
   "execution_count": 93,
   "id": "c5df5338",
   "metadata": {},
   "outputs": [
    {
     "name": "stdout",
     "output_type": "stream",
     "text": [
      "XOR-DFA: 101010101101101101011011011010011\n"
     ]
    }
   ],
   "source": [
    "'''Figure 6.3'''\n",
    "\n",
    "# States\n",
    "q0, q1, q2, q3 = list(range(4))\n",
    "\n",
    "# Transition Function\n",
    "δ = dict([ \n",
    "    ((q0, 0), q0), ((q0, 1), q1),\n",
    "    ((q1, 0), q1), ((q1, 1), q0),\n",
    "])\n",
    "\n",
    "XOR_DFA = DFA(δ, [q1])\n",
    "print(f'XOR-DFA: {XOR_DFA!r}')"
   ]
  },
  {
   "cell_type": "code",
   "execution_count": 94,
   "id": "f8e56b48",
   "metadata": {},
   "outputs": [
    {
     "name": "stdout",
     "output_type": "stream",
     "text": [
      "F-DFA: 101011101011011110110101011011011110111010111101110110110111101011110111101101111001\n"
     ]
    }
   ],
   "source": [
    "'''Figure 6.4'''\n",
    "\n",
    "# Transition Function\n",
    "δ = dict([\n",
    "    ((q0, 0), q2), ((q0, 1), q3),\n",
    "    ((q1, 0), q0), ((q1, 1), q3),\n",
    "    ((q2, 0), q3), ((q2, 1), q1),\n",
    "    ((q3, 0), q3), ((q3, 1), q3),\n",
    "])\n",
    "\n",
    "F_DFA = DFA(δ, [q0])\n",
    "print(f'F-DFA: {F_DFA!r}')"
   ]
  },
  {
   "cell_type": "code",
   "execution_count": 95,
   "id": "6fa07240",
   "metadata": {},
   "outputs": [
    {
     "name": "stdout",
     "output_type": "stream",
     "text": [
      "[0, 1], {0, 1}, 0, [1]\n"
     ]
    }
   ],
   "source": [
    "M = XOR_DFA\n",
    "\n",
    "alphabet = {0, 1}\n",
    "state = sorted(list(set(([x[0] for x in M.T.keys()]))))\n",
    "current = state[0]\n",
    "final = M.S\n",
    "\n",
    "print(state, alphabet, current, final, sep=', ')"
   ]
  },
  {
   "cell_type": "code",
   "execution_count": 132,
   "id": "7f75a3cd",
   "metadata": {},
   "outputs": [
    {
     "name": "stdout",
     "output_type": "stream",
     "text": [
      "▷00010001🔥\n"
     ]
    }
   ],
   "source": [
    "alphabet = ['0', '1', '▷', '🔥']\n",
    "states = ['Q' + str(i) for i in range(6)] + ['QA', 'QR']\n",
    "input_string = '00010001'\n",
    "\n",
    "head, state = 0, states[0]\n",
    "tape = ['▷'] + [x for x in input_string] + ['🔥']\n",
    "print(''.join(tape))"
   ]
  },
  {
   "cell_type": "code",
   "execution_count": 133,
   "id": "47ce0fda",
   "metadata": {},
   "outputs": [
    {
     "name": "stdout",
     "output_type": "stream",
     "text": [
      "Q0         ▷    Q0         ▷     R\n",
      "Q0         0    Q0         0     R\n",
      "Q0         0    Q0         0     R\n",
      "Q0         0    Q0         0     R\n",
      "Q0         1    Q1         1     R\n",
      "Q1         0    Q1         0     R\n",
      "Q1         0    Q1         0     R\n",
      "Q1         0    Q1         0     R\n",
      "Q1         1    Q0         1     R\n",
      "Q0         🔥    QR         🔥     L\n",
      "QR         1    QR         🔥     L\n",
      "QR         0    QR         🔥     L\n",
      "QR         0    QR         🔥     L\n",
      "QR         0    QR         🔥     L\n",
      "QR         1    QR         🔥     L\n",
      "QR         0    QR         🔥     L\n",
      "QR         0    QR         🔥     L\n",
      "QR         0    QR         🔥     L\n",
      "QR         ▷    RETURN0    ▷     R\n",
      "RETURN0    🔥    RETURN0    0     H\n",
      "['▷', '0', '🔥', '🔥', '🔥', '🔥', '🔥', '🔥', '🔥', '🔥']\n",
      "0\n"
     ]
    }
   ],
   "source": [
    "class HaltExecution(Exception):\n",
    "    pass\n",
    "\n",
    "def debug():\n",
    "    print(f'{state:10} {tape[head]:5}', end='')\n",
    "\n",
    "def transition(state, sym):\n",
    "    move = 'R'\n",
    "    if state in ['Q0', 'Q1']:\n",
    "        if sym == '🔥':\n",
    "            state = 'QA' if state == 'Q1' else 'QR'\n",
    "            move = 'L'\n",
    "        elif sym == '1':\n",
    "            state = 'Q0' if state == 'Q1' else 'Q1'\n",
    "    else:\n",
    "        move = \"H\"\n",
    "        if state in ['QA', 'QR']:\n",
    "            if sym != '▷':\n",
    "                move, sym = 'L', '🔥'\n",
    "            else:\n",
    "                move = 'R'\n",
    "                state = 'RETURN1' if state == 'QA' else 'RETURN0'\n",
    "        elif state[:-1] == \"RETURN\":\n",
    "            move = \"H\"\n",
    "            sym = state[-1]\n",
    "    return state, sym, move\n",
    "    \n",
    "def run():\n",
    "    '''simulates a DFA given an input'''\n",
    "    global state, head, tape\n",
    "    try:\n",
    "        while True:\n",
    "            debug()\n",
    "            state, tape[head], action = transition(state, tape[head])\n",
    "            print(f'{state:10} {tape[head]:5} {action}')\n",
    "\n",
    "            if action == 'L':\n",
    "                head = max(0, head-1)\n",
    "            elif action == 'R':\n",
    "                head += 1\n",
    "                if head == len(tape):\n",
    "                    tape.append('🔥')\n",
    "            elif action == 'S':\n",
    "                continue\n",
    "            elif action == 'H':\n",
    "                raise HaltExecution('Process Ended')\n",
    "    except HaltExecution:\n",
    "        print(tape)\n",
    "        print(''.join(tape[tape.index('▷')+1 : tape.index('🔥')]))\n",
    "\n",
    "run()"
   ]
  },
  {
   "cell_type": "code",
   "execution_count": null,
   "id": "9f0697c6",
   "metadata": {},
   "outputs": [],
   "source": []
  }
 ],
 "metadata": {
  "kernelspec": {
   "display_name": "Python 3 (ipykernel)",
   "language": "python",
   "name": "python3"
  },
  "language_info": {
   "codemirror_mode": {
    "name": "ipython",
    "version": 3
   },
   "file_extension": ".py",
   "mimetype": "text/x-python",
   "name": "python",
   "nbconvert_exporter": "python",
   "pygments_lexer": "ipython3",
   "version": "3.8.10"
  }
 },
 "nbformat": 4,
 "nbformat_minor": 5
}
