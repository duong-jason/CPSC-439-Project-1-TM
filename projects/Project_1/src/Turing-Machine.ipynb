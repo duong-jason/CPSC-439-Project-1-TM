{
  "cells": [
    {
      "cell_type": "markdown",
      "source": [
        "# DFA Representation ⚡\n",
        "\n",
        "| Key        | Value |\n",
        "|------------|------:|\n",
        "| N (states) |  1{N} |\n",
        "| DELIM      |  00   |\n",
        "| SEP        |  0    |\n",
        "\n",
        "### Example\n",
        "> ``10110111001101 = T: (1, 11, 111), S: {11, 1} = T: (q0, q1, q2), S: {q1, q0}``\n"
      ],
      "metadata": {
        "id": "D-SX4lK9x6zy"
      },
      "id": "D-SX4lK9x6zy"
    },
    {
      "cell_type": "code",
      "execution_count": 8,
      "id": "702992b7",
      "metadata": {
        "id": "702992b7"
      },
      "outputs": [],
      "source": [
        "from collections import namedtuple\n",
        "\n",
        "# Computational Model: DFA\n",
        "DFA = namedtuple('DFA', ['T', 'S'])\n",
        "BLANK, ZERO, ONE = ['.', '0', '1']\n",
        "\n",
        "def encode(M):\n",
        "    '''converts DFA model to binary representation'''\n",
        "    code = ''\n",
        "\n",
        "    for (current, symbol), successor in M.T.items():\n",
        "        code += ''.join(list(map(lambda offset: ONE * (offset + 1) + ZERO,\n",
        "                                [current, symbol, successor])))\n",
        "    \n",
        "    for final in M.S:\n",
        "        code += ZERO + ''.join(list(map(lambda offset: ONE * (offset + 1), [final])))\n",
        "\n",
        "    return code\n",
        "\n",
        "# DFA Representation\n",
        "DFA.__repr__ = encode"
      ]
    },
    {
      "cell_type": "code",
      "execution_count": 9,
      "id": "c5df5338",
      "metadata": {
        "id": "c5df5338",
        "outputId": "2cb5297f-2d8a-480c-e619-0521a944e3f8",
        "colab": {
          "base_uri": "https://localhost:8080/"
        }
      },
      "outputs": [
        {
          "output_type": "stream",
          "name": "stdout",
          "text": [
            "XOR-DFA: 101010101101101101011011011010011\n"
          ]
        }
      ],
      "source": [
        "'''Figure 6.3'''\n",
        "\n",
        "# States\n",
        "q0, q1, q2, q3 = 0, 1, 2, 3\n",
        "\n",
        "# Transition Function\n",
        "δ = dict([ \n",
        "    ((q0, 0), q0), ((q0, 1), q1),\n",
        "    ((q1, 0), q1), ((q1, 1), q0),\n",
        "])\n",
        "\n",
        "XOR = DFA(δ, {q1})\n",
        "print('XOR-DFA:', XOR)"
      ]
    },
    {
      "cell_type": "code",
      "execution_count": 10,
      "id": "f8e56b48",
      "metadata": {
        "id": "f8e56b48",
        "outputId": "d27938a5-1228-4a72-a138-9b989eca56b7",
        "colab": {
          "base_uri": "https://localhost:8080/"
        }
      },
      "outputs": [
        {
          "output_type": "stream",
          "name": "stdout",
          "text": [
            "F-DFA: 101011101011011110110101011011011110111010111101110110110111101011110111101101111001\n"
          ]
        }
      ],
      "source": [
        "'''Figure 6.4'''\n",
        "\n",
        "# Transition Function\n",
        "δ = dict([\n",
        "    ((q0, 0), q2), ((q0, 1), q3),\n",
        "    ((q1, 0), q0), ((q1, 1), q3),\n",
        "    ((q2, 0), q3), ((q2, 1), q1),\n",
        "    ((q3, 0), q3), ((q3, 1), q3),\n",
        "])\n",
        "\n",
        "F = DFA(δ, {q0})\n",
        "print('F-DFA:', F)"
      ]
    },
    {
      "cell_type": "code",
      "execution_count": 4,
      "id": "6fa07240",
      "metadata": {
        "id": "6fa07240",
        "outputId": "c1c4add6-9ecf-4db7-9867-84be9cf32d6f",
        "colab": {
          "base_uri": "https://localhost:8080/"
        }
      },
      "outputs": [
        {
          "output_type": "stream",
          "name": "stdout",
          "text": [
            "[0, 1], {0, 1}, 0, {1}\n"
          ]
        }
      ],
      "source": [
        "M = XOR\n",
        "\n",
        "alphabet = {0, 1}\n",
        "state = sorted(list(set(([x[0] for x in M.T.keys()]))))\n",
        "current = state[0]\n",
        "final = M.S\n",
        "\n",
        "print(state, alphabet, current, final, sep=', ')"
      ]
    },
    {
      "cell_type": "code",
      "execution_count": 5,
      "id": "e07b04f5",
      "metadata": {
        "id": "e07b04f5",
        "outputId": "b107d356-6046-4551-fdf5-b238eb5f00a8",
        "colab": {
          "base_uri": "https://localhost:8080/"
        }
      },
      "outputs": [
        {
          "output_type": "stream",
          "name": "stdout",
          "text": [
            "q1 -> q1 -> q0 -> q1 -> q1 -> q0 -> reject\n"
          ]
        }
      ],
      "source": [
        "_input = r'101101'\n",
        "\n",
        "def compute(code):\n",
        "    global current\n",
        "    current = state[0]\n",
        "\n",
        "    X = [int(c) for c in code]\n",
        "\n",
        "    for symbol in X:\n",
        "        current = M.T[(current, symbol)]\n",
        "        print('q' + str(current), '-> ', end='')\n",
        "\n",
        "    return 'accept' if current in final else 'reject'\n",
        "\n",
        "\n",
        "print(compute(_input))"
      ]
    },
    {
      "cell_type": "code",
      "execution_count": 5,
      "id": "d0212920",
      "metadata": {
        "id": "d0212920"
      },
      "outputs": [],
      "source": [
        ""
      ]
    }
  ],
  "metadata": {
    "kernelspec": {
      "display_name": "Python 3 (ipykernel)",
      "language": "python",
      "name": "python3"
    },
    "language_info": {
      "codemirror_mode": {
        "name": "ipython",
        "version": 3
      },
      "file_extension": ".py",
      "mimetype": "text/x-python",
      "name": "python",
      "nbconvert_exporter": "python",
      "pygments_lexer": "ipython3",
      "version": "3.8.10"
    },
    "colab": {
      "name": "Turing-Machine.ipynb",
      "provenance": []
    }
  },
  "nbformat": 4,
  "nbformat_minor": 5
}